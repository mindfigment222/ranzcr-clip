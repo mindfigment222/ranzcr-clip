{
 "cells": [
  {
   "cell_type": "code",
   "execution_count": 2,
   "metadata": {},
   "outputs": [],
   "source": [
    "import pandas as pd\n",
    "import numpy as np"
   ]
  },
  {
   "cell_type": "code",
   "execution_count": 3,
   "metadata": {},
   "outputs": [],
   "source": [
    "path_to_csv = '/home/stanislaw/datasets/ranzcr-clip/train.csv'"
   ]
  },
  {
   "cell_type": "code",
   "execution_count": 4,
   "metadata": {},
   "outputs": [],
   "source": [
    "train_df = pd.read_csv(path_to_csv)"
   ]
  },
  {
   "cell_type": "code",
   "execution_count": 5,
   "metadata": {},
   "outputs": [
    {
     "data": {
      "text/html": [
       "<div>\n",
       "<style scoped>\n",
       "    .dataframe tbody tr th:only-of-type {\n",
       "        vertical-align: middle;\n",
       "    }\n",
       "\n",
       "    .dataframe tbody tr th {\n",
       "        vertical-align: top;\n",
       "    }\n",
       "\n",
       "    .dataframe thead th {\n",
       "        text-align: right;\n",
       "    }\n",
       "</style>\n",
       "<table border=\"1\" class=\"dataframe\">\n",
       "  <thead>\n",
       "    <tr style=\"text-align: right;\">\n",
       "      <th></th>\n",
       "      <th>StudyInstanceUID</th>\n",
       "      <th>ETT - Abnormal</th>\n",
       "      <th>ETT - Borderline</th>\n",
       "      <th>ETT - Normal</th>\n",
       "      <th>NGT - Abnormal</th>\n",
       "      <th>NGT - Borderline</th>\n",
       "      <th>NGT - Incompletely Imaged</th>\n",
       "      <th>NGT - Normal</th>\n",
       "      <th>CVC - Abnormal</th>\n",
       "      <th>CVC - Borderline</th>\n",
       "      <th>CVC - Normal</th>\n",
       "      <th>Swan Ganz Catheter Present</th>\n",
       "      <th>PatientID</th>\n",
       "    </tr>\n",
       "  </thead>\n",
       "  <tbody>\n",
       "    <tr>\n",
       "      <th>0</th>\n",
       "      <td>1.2.826.0.1.3680043.8.498.26697628953273228189...</td>\n",
       "      <td>0</td>\n",
       "      <td>0</td>\n",
       "      <td>0</td>\n",
       "      <td>0</td>\n",
       "      <td>0</td>\n",
       "      <td>0</td>\n",
       "      <td>1</td>\n",
       "      <td>0</td>\n",
       "      <td>0</td>\n",
       "      <td>0</td>\n",
       "      <td>0</td>\n",
       "      <td>ec89415d1</td>\n",
       "    </tr>\n",
       "    <tr>\n",
       "      <th>1</th>\n",
       "      <td>1.2.826.0.1.3680043.8.498.46302891597398758759...</td>\n",
       "      <td>0</td>\n",
       "      <td>0</td>\n",
       "      <td>1</td>\n",
       "      <td>0</td>\n",
       "      <td>0</td>\n",
       "      <td>1</td>\n",
       "      <td>0</td>\n",
       "      <td>0</td>\n",
       "      <td>0</td>\n",
       "      <td>1</td>\n",
       "      <td>0</td>\n",
       "      <td>bf4c6da3c</td>\n",
       "    </tr>\n",
       "    <tr>\n",
       "      <th>2</th>\n",
       "      <td>1.2.826.0.1.3680043.8.498.23819260719748494858...</td>\n",
       "      <td>0</td>\n",
       "      <td>0</td>\n",
       "      <td>0</td>\n",
       "      <td>0</td>\n",
       "      <td>0</td>\n",
       "      <td>0</td>\n",
       "      <td>0</td>\n",
       "      <td>0</td>\n",
       "      <td>1</td>\n",
       "      <td>0</td>\n",
       "      <td>0</td>\n",
       "      <td>3fc1c97e5</td>\n",
       "    </tr>\n",
       "    <tr>\n",
       "      <th>3</th>\n",
       "      <td>1.2.826.0.1.3680043.8.498.68286643202323212801...</td>\n",
       "      <td>0</td>\n",
       "      <td>0</td>\n",
       "      <td>0</td>\n",
       "      <td>0</td>\n",
       "      <td>0</td>\n",
       "      <td>0</td>\n",
       "      <td>0</td>\n",
       "      <td>1</td>\n",
       "      <td>0</td>\n",
       "      <td>0</td>\n",
       "      <td>0</td>\n",
       "      <td>c31019814</td>\n",
       "    </tr>\n",
       "    <tr>\n",
       "      <th>4</th>\n",
       "      <td>1.2.826.0.1.3680043.8.498.10050203009225938259...</td>\n",
       "      <td>0</td>\n",
       "      <td>0</td>\n",
       "      <td>0</td>\n",
       "      <td>0</td>\n",
       "      <td>0</td>\n",
       "      <td>0</td>\n",
       "      <td>0</td>\n",
       "      <td>0</td>\n",
       "      <td>0</td>\n",
       "      <td>1</td>\n",
       "      <td>0</td>\n",
       "      <td>207685cd1</td>\n",
       "    </tr>\n",
       "  </tbody>\n",
       "</table>\n",
       "</div>"
      ],
      "text/plain": [
       "                                    StudyInstanceUID  ETT - Abnormal  \\\n",
       "0  1.2.826.0.1.3680043.8.498.26697628953273228189...               0   \n",
       "1  1.2.826.0.1.3680043.8.498.46302891597398758759...               0   \n",
       "2  1.2.826.0.1.3680043.8.498.23819260719748494858...               0   \n",
       "3  1.2.826.0.1.3680043.8.498.68286643202323212801...               0   \n",
       "4  1.2.826.0.1.3680043.8.498.10050203009225938259...               0   \n",
       "\n",
       "   ETT - Borderline  ETT - Normal  NGT - Abnormal  NGT - Borderline  \\\n",
       "0                 0             0               0                 0   \n",
       "1                 0             1               0                 0   \n",
       "2                 0             0               0                 0   \n",
       "3                 0             0               0                 0   \n",
       "4                 0             0               0                 0   \n",
       "\n",
       "   NGT - Incompletely Imaged  NGT - Normal  CVC - Abnormal  CVC - Borderline  \\\n",
       "0                          0             1               0                 0   \n",
       "1                          1             0               0                 0   \n",
       "2                          0             0               0                 1   \n",
       "3                          0             0               1                 0   \n",
       "4                          0             0               0                 0   \n",
       "\n",
       "   CVC - Normal  Swan Ganz Catheter Present  PatientID  \n",
       "0             0                           0  ec89415d1  \n",
       "1             1                           0  bf4c6da3c  \n",
       "2             0                           0  3fc1c97e5  \n",
       "3             0                           0  c31019814  \n",
       "4             1                           0  207685cd1  "
      ]
     },
     "execution_count": 5,
     "metadata": {},
     "output_type": "execute_result"
    }
   ],
   "source": [
    "train_df.head()"
   ]
  },
  {
   "cell_type": "code",
   "execution_count": 6,
   "metadata": {},
   "outputs": [
    {
     "data": {
      "text/plain": [
       "0.0017142857142857142"
      ]
     },
     "execution_count": 6,
     "metadata": {},
     "output_type": "execute_result"
    }
   ],
   "source": [
    "24 / 14000"
   ]
  },
  {
   "cell_type": "code",
   "execution_count": 7,
   "metadata": {},
   "outputs": [
    {
     "data": {
      "text/plain": [
       "30083"
      ]
     },
     "execution_count": 7,
     "metadata": {},
     "output_type": "execute_result"
    }
   ],
   "source": [
    "len(train_df)"
   ]
  },
  {
   "cell_type": "code",
   "execution_count": 8,
   "metadata": {},
   "outputs": [
    {
     "data": {
      "text/plain": [
       "11214"
      ]
     },
     "execution_count": 8,
     "metadata": {},
     "output_type": "execute_result"
    }
   ],
   "source": [
    "np.random.choice(len(train_df), replace=False)"
   ]
  },
  {
   "cell_type": "code",
   "execution_count": 9,
   "metadata": {},
   "outputs": [],
   "source": [
    "from collections import OrderedDict, defaultdict"
   ]
  },
  {
   "cell_type": "code",
   "execution_count": 10,
   "metadata": {},
   "outputs": [],
   "source": [
    "s = train_df.iloc[:, 1:-1].sum()"
   ]
  },
  {
   "cell_type": "code",
   "execution_count": 11,
   "metadata": {},
   "outputs": [
    {
     "data": {
      "text/plain": [
       "(18760, 24)"
      ]
     },
     "execution_count": 11,
     "metadata": {},
     "output_type": "execute_result"
    }
   ],
   "source": [
    "np.sum(train_df.iloc[:, 1:-1].sum(1) == 1), np.sum(train_df.iloc[:, 1:-1].sum(1) == 0)"
   ]
  },
  {
   "cell_type": "code",
   "execution_count": 12,
   "metadata": {},
   "outputs": [
    {
     "data": {
      "text/plain": [
       "pandas.core.series.Series"
      ]
     },
     "execution_count": 12,
     "metadata": {},
     "output_type": "execute_result"
    }
   ],
   "source": [
    "type(s)"
   ]
  },
  {
   "cell_type": "code",
   "execution_count": 13,
   "metadata": {},
   "outputs": [
    {
     "data": {
      "text/plain": [
       "ETT - Abnormal                   79\n",
       "ETT - Borderline               1138\n",
       "ETT - Normal                   7240\n",
       "NGT - Abnormal                  279\n",
       "NGT - Borderline                529\n",
       "NGT - Incompletely Imaged      2748\n",
       "NGT - Normal                   4797\n",
       "CVC - Abnormal                 3195\n",
       "CVC - Borderline               8460\n",
       "CVC - Normal                  21324\n",
       "Swan Ganz Catheter Present      830\n",
       "dtype: int64"
      ]
     },
     "execution_count": 13,
     "metadata": {},
     "output_type": "execute_result"
    }
   ],
   "source": [
    "s"
   ]
  },
  {
   "cell_type": "code",
   "execution_count": 14,
   "metadata": {},
   "outputs": [
    {
     "data": {
      "text/plain": [
       "{'ETT - Abnormal': 79,\n",
       " 'ETT - Borderline': 1138,\n",
       " 'ETT - Normal': 7240,\n",
       " 'NGT - Abnormal': 279,\n",
       " 'NGT - Borderline': 529,\n",
       " 'NGT - Incompletely Imaged': 2748,\n",
       " 'NGT - Normal': 4797,\n",
       " 'CVC - Abnormal': 3195,\n",
       " 'CVC - Borderline': 8460,\n",
       " 'CVC - Normal': 21324,\n",
       " 'Swan Ganz Catheter Present': 830}"
      ]
     },
     "execution_count": 14,
     "metadata": {},
     "output_type": "execute_result"
    }
   ],
   "source": [
    "s.to_dict(dict())"
   ]
  },
  {
   "cell_type": "code",
   "execution_count": 15,
   "metadata": {},
   "outputs": [],
   "source": [
    "s['None'] = np.sum(train_df.iloc[:, 1:-1].sum(1) == 0)"
   ]
  },
  {
   "cell_type": "code",
   "execution_count": 16,
   "metadata": {},
   "outputs": [
    {
     "data": {
      "text/plain": [
       "ETT - Abnormal                   79\n",
       "ETT - Borderline               1138\n",
       "ETT - Normal                   7240\n",
       "NGT - Abnormal                  279\n",
       "NGT - Borderline                529\n",
       "NGT - Incompletely Imaged      2748\n",
       "NGT - Normal                   4797\n",
       "CVC - Abnormal                 3195\n",
       "CVC - Borderline               8460\n",
       "CVC - Normal                  21324\n",
       "Swan Ganz Catheter Present      830\n",
       "None                             24\n",
       "dtype: int64"
      ]
     },
     "execution_count": 16,
     "metadata": {},
     "output_type": "execute_result"
    }
   ],
   "source": [
    "s"
   ]
  },
  {
   "cell_type": "code",
   "execution_count": 17,
   "metadata": {},
   "outputs": [],
   "source": [
    "names = s.index.to_list()"
   ]
  },
  {
   "cell_type": "code",
   "execution_count": 18,
   "metadata": {},
   "outputs": [],
   "source": [
    "counts = s.values"
   ]
  },
  {
   "cell_type": "code",
   "execution_count": 19,
   "metadata": {},
   "outputs": [
    {
     "data": {
      "text/plain": [
       "array([0.00155994, 0.02247102, 0.14296151, 0.00550915, 0.01044567,\n",
       "       0.05426219, 0.09472188, 0.06308868, 0.16705171, 0.4210651 ,\n",
       "       0.01638923, 0.00047391])"
      ]
     },
     "execution_count": 19,
     "metadata": {},
     "output_type": "execute_result"
    }
   ],
   "source": [
    "counts / np.sum(counts)"
   ]
  },
  {
   "cell_type": "code",
   "execution_count": 20,
   "metadata": {},
   "outputs": [],
   "source": [
    "probs = dict(zip(names, counts / np.sum(counts)))"
   ]
  },
  {
   "cell_type": "code",
   "execution_count": 21,
   "metadata": {},
   "outputs": [
    {
     "data": {
      "text/plain": [
       "6.0"
      ]
     },
     "execution_count": 21,
     "metadata": {},
     "output_type": "execute_result"
    }
   ],
   "source": [
    "train_df.groupby('PatientID').sum().sum(1).median()"
   ]
  },
  {
   "cell_type": "code",
   "execution_count": 22,
   "metadata": {},
   "outputs": [
    {
     "data": {
      "text/plain": [
       "{'ETT - Abnormal': 0.001559939182117963,\n",
       " 'ETT - Borderline': 0.022471022648737238,\n",
       " 'ETT - Normal': 0.14296151491815257,\n",
       " 'NGT - Abnormal': 0.005509152301403945,\n",
       " 'NGT - Borderline': 0.010445668700511423,\n",
       " 'NGT - Incompletely Imaged': 0.054262188258989395,\n",
       " 'NGT - Normal': 0.09472187666607429,\n",
       " 'CVC - Abnormal': 0.06308867958059357,\n",
       " 'CVC - Borderline': 0.16705171494579704,\n",
       " 'CVC - Normal': 0.4210651027782714,\n",
       " 'Swan Ganz Catheter Present': 0.016389234445036826,\n",
       " 'None': 0.0004739055743143179}"
      ]
     },
     "execution_count": 22,
     "metadata": {},
     "output_type": "execute_result"
    }
   ],
   "source": [
    "probs"
   ]
  },
  {
   "cell_type": "code",
   "execution_count": 23,
   "metadata": {},
   "outputs": [
    {
     "data": {
      "text/html": [
       "<div>\n",
       "<style scoped>\n",
       "    .dataframe tbody tr th:only-of-type {\n",
       "        vertical-align: middle;\n",
       "    }\n",
       "\n",
       "    .dataframe tbody tr th {\n",
       "        vertical-align: top;\n",
       "    }\n",
       "\n",
       "    .dataframe thead th {\n",
       "        text-align: right;\n",
       "    }\n",
       "</style>\n",
       "<table border=\"1\" class=\"dataframe\">\n",
       "  <thead>\n",
       "    <tr style=\"text-align: right;\">\n",
       "      <th></th>\n",
       "      <th>StudyInstanceUID</th>\n",
       "      <th>ETT - Abnormal</th>\n",
       "      <th>ETT - Borderline</th>\n",
       "      <th>ETT - Normal</th>\n",
       "      <th>NGT - Abnormal</th>\n",
       "      <th>NGT - Borderline</th>\n",
       "      <th>NGT - Incompletely Imaged</th>\n",
       "      <th>NGT - Normal</th>\n",
       "      <th>CVC - Abnormal</th>\n",
       "      <th>CVC - Borderline</th>\n",
       "      <th>CVC - Normal</th>\n",
       "      <th>Swan Ganz Catheter Present</th>\n",
       "      <th>PatientID</th>\n",
       "    </tr>\n",
       "  </thead>\n",
       "  <tbody>\n",
       "    <tr>\n",
       "      <th>0</th>\n",
       "      <td>1.2.826.0.1.3680043.8.498.26697628953273228189...</td>\n",
       "      <td>0</td>\n",
       "      <td>0</td>\n",
       "      <td>0</td>\n",
       "      <td>0</td>\n",
       "      <td>0</td>\n",
       "      <td>0</td>\n",
       "      <td>1</td>\n",
       "      <td>0</td>\n",
       "      <td>0</td>\n",
       "      <td>0</td>\n",
       "      <td>0</td>\n",
       "      <td>ec89415d1</td>\n",
       "    </tr>\n",
       "    <tr>\n",
       "      <th>1</th>\n",
       "      <td>1.2.826.0.1.3680043.8.498.46302891597398758759...</td>\n",
       "      <td>0</td>\n",
       "      <td>0</td>\n",
       "      <td>1</td>\n",
       "      <td>0</td>\n",
       "      <td>0</td>\n",
       "      <td>1</td>\n",
       "      <td>0</td>\n",
       "      <td>0</td>\n",
       "      <td>0</td>\n",
       "      <td>1</td>\n",
       "      <td>0</td>\n",
       "      <td>bf4c6da3c</td>\n",
       "    </tr>\n",
       "    <tr>\n",
       "      <th>2</th>\n",
       "      <td>1.2.826.0.1.3680043.8.498.23819260719748494858...</td>\n",
       "      <td>0</td>\n",
       "      <td>0</td>\n",
       "      <td>0</td>\n",
       "      <td>0</td>\n",
       "      <td>0</td>\n",
       "      <td>0</td>\n",
       "      <td>0</td>\n",
       "      <td>0</td>\n",
       "      <td>1</td>\n",
       "      <td>0</td>\n",
       "      <td>0</td>\n",
       "      <td>3fc1c97e5</td>\n",
       "    </tr>\n",
       "    <tr>\n",
       "      <th>3</th>\n",
       "      <td>1.2.826.0.1.3680043.8.498.68286643202323212801...</td>\n",
       "      <td>0</td>\n",
       "      <td>0</td>\n",
       "      <td>0</td>\n",
       "      <td>0</td>\n",
       "      <td>0</td>\n",
       "      <td>0</td>\n",
       "      <td>0</td>\n",
       "      <td>1</td>\n",
       "      <td>0</td>\n",
       "      <td>0</td>\n",
       "      <td>0</td>\n",
       "      <td>c31019814</td>\n",
       "    </tr>\n",
       "    <tr>\n",
       "      <th>4</th>\n",
       "      <td>1.2.826.0.1.3680043.8.498.10050203009225938259...</td>\n",
       "      <td>0</td>\n",
       "      <td>0</td>\n",
       "      <td>0</td>\n",
       "      <td>0</td>\n",
       "      <td>0</td>\n",
       "      <td>0</td>\n",
       "      <td>0</td>\n",
       "      <td>0</td>\n",
       "      <td>0</td>\n",
       "      <td>1</td>\n",
       "      <td>0</td>\n",
       "      <td>207685cd1</td>\n",
       "    </tr>\n",
       "  </tbody>\n",
       "</table>\n",
       "</div>"
      ],
      "text/plain": [
       "                                    StudyInstanceUID  ETT - Abnormal  \\\n",
       "0  1.2.826.0.1.3680043.8.498.26697628953273228189...               0   \n",
       "1  1.2.826.0.1.3680043.8.498.46302891597398758759...               0   \n",
       "2  1.2.826.0.1.3680043.8.498.23819260719748494858...               0   \n",
       "3  1.2.826.0.1.3680043.8.498.68286643202323212801...               0   \n",
       "4  1.2.826.0.1.3680043.8.498.10050203009225938259...               0   \n",
       "\n",
       "   ETT - Borderline  ETT - Normal  NGT - Abnormal  NGT - Borderline  \\\n",
       "0                 0             0               0                 0   \n",
       "1                 0             1               0                 0   \n",
       "2                 0             0               0                 0   \n",
       "3                 0             0               0                 0   \n",
       "4                 0             0               0                 0   \n",
       "\n",
       "   NGT - Incompletely Imaged  NGT - Normal  CVC - Abnormal  CVC - Borderline  \\\n",
       "0                          0             1               0                 0   \n",
       "1                          1             0               0                 0   \n",
       "2                          0             0               0                 1   \n",
       "3                          0             0               1                 0   \n",
       "4                          0             0               0                 0   \n",
       "\n",
       "   CVC - Normal  Swan Ganz Catheter Present  PatientID  \n",
       "0             0                           0  ec89415d1  \n",
       "1             1                           0  bf4c6da3c  \n",
       "2             0                           0  3fc1c97e5  \n",
       "3             0                           0  c31019814  \n",
       "4             1                           0  207685cd1  "
      ]
     },
     "execution_count": 23,
     "metadata": {},
     "output_type": "execute_result"
    }
   ],
   "source": [
    "train_df.head()"
   ]
  },
  {
   "cell_type": "code",
   "execution_count": 24,
   "metadata": {},
   "outputs": [
    {
     "data": {
      "text/plain": [
       "['ETT - Abnormal',\n",
       " 'ETT - Borderline',\n",
       " 'ETT - Normal',\n",
       " 'NGT - Abnormal',\n",
       " 'NGT - Borderline',\n",
       " 'NGT - Incompletely Imaged',\n",
       " 'NGT - Normal',\n",
       " 'CVC - Abnormal',\n",
       " 'CVC - Borderline',\n",
       " 'CVC - Normal',\n",
       " 'Swan Ganz Catheter Present']"
      ]
     },
     "execution_count": 24,
     "metadata": {},
     "output_type": "execute_result"
    }
   ],
   "source": [
    "columns = train_df.columns[1:-1].to_list()\n",
    "columns"
   ]
  },
  {
   "cell_type": "code",
   "execution_count": 25,
   "metadata": {},
   "outputs": [],
   "source": [
    "d = {}\n",
    "for col in columns:\n",
    "    d[col] = train_df[train_df[col] == 1]['StudyInstanceUID'].to_list()\n",
    "d['None'] = train_df[train_df.iloc[:, 1:-1].sum(1) == 0]['StudyInstanceUID'].to_list()"
   ]
  },
  {
   "cell_type": "code",
   "execution_count": 26,
   "metadata": {},
   "outputs": [
    {
     "data": {
      "text/plain": [
       "['1.2.826.0.1.3680043.8.498.70556928637314908190043753509080639346',\n",
       " '1.2.826.0.1.3680043.8.498.62015824992988632734732028510878678058',\n",
       " '1.2.826.0.1.3680043.8.498.32419559375493685668844762644430268742',\n",
       " '1.2.826.0.1.3680043.8.498.29594566253802547412666405573794509996',\n",
       " '1.2.826.0.1.3680043.8.498.87060544214618912677358800066372917759',\n",
       " '1.2.826.0.1.3680043.8.498.77617913658664951057379050596538324265',\n",
       " '1.2.826.0.1.3680043.8.498.22681438984244725251540286783146340207',\n",
       " '1.2.826.0.1.3680043.8.498.76873981093833909666100955199059328203',\n",
       " '1.2.826.0.1.3680043.8.498.16289885199975270507878278461180774853',\n",
       " '1.2.826.0.1.3680043.8.498.58959974007194881910883633900120894133',\n",
       " '1.2.826.0.1.3680043.8.498.57553766290478117689691227338973153148',\n",
       " '1.2.826.0.1.3680043.8.498.12223483707517344235132707229554872826',\n",
       " '1.2.826.0.1.3680043.8.498.72598527577197250033387270423700920577',\n",
       " '1.2.826.0.1.3680043.8.498.10031131575745854404126410511882847279',\n",
       " '1.2.826.0.1.3680043.8.498.27735788065706318427834428727058767495',\n",
       " '1.2.826.0.1.3680043.8.498.12117973685813682040906233799430905529',\n",
       " '1.2.826.0.1.3680043.8.498.23463192819909852867890848692185962628',\n",
       " '1.2.826.0.1.3680043.8.498.99722513002839474309194956069139195175',\n",
       " '1.2.826.0.1.3680043.8.498.59000837536872259040577141592245957659',\n",
       " '1.2.826.0.1.3680043.8.498.74692334349977474246279475957036146226',\n",
       " '1.2.826.0.1.3680043.8.498.85532799680825387534302013447068585944',\n",
       " '1.2.826.0.1.3680043.8.498.94546335208494362824048256394230982330',\n",
       " '1.2.826.0.1.3680043.8.498.11745816736251186885492299187567575889',\n",
       " '1.2.826.0.1.3680043.8.498.29120924921129086021386997558046643281']"
      ]
     },
     "execution_count": 26,
     "metadata": {},
     "output_type": "execute_result"
    }
   ],
   "source": [
    "d['None']"
   ]
  },
  {
   "cell_type": "code",
   "execution_count": 27,
   "metadata": {},
   "outputs": [],
   "source": [
    "dataset_size = len(train_df)"
   ]
  },
  {
   "cell_type": "code",
   "execution_count": 28,
   "metadata": {},
   "outputs": [],
   "source": [
    "val_train_ratio = 0.1"
   ]
  },
  {
   "cell_type": "code",
   "execution_count": 29,
   "metadata": {},
   "outputs": [],
   "source": [
    "val_size = int(np.floor(dataset_size * val_train_ratio))"
   ]
  },
  {
   "cell_type": "code",
   "execution_count": 30,
   "metadata": {},
   "outputs": [
    {
     "data": {
      "text/plain": [
       "3008"
      ]
     },
     "execution_count": 30,
     "metadata": {},
     "output_type": "execute_result"
    }
   ],
   "source": [
    "val_size"
   ]
  },
  {
   "cell_type": "code",
   "execution_count": 31,
   "metadata": {},
   "outputs": [
    {
     "data": {
      "text/plain": [
       "[('ETT - Abnormal', 0.001559939182117963),\n",
       " ('ETT - Borderline', 0.022471022648737238),\n",
       " ('ETT - Normal', 0.14296151491815257),\n",
       " ('NGT - Abnormal', 0.005509152301403945),\n",
       " ('NGT - Borderline', 0.010445668700511423),\n",
       " ('NGT - Incompletely Imaged', 0.054262188258989395),\n",
       " ('NGT - Normal', 0.09472187666607429),\n",
       " ('CVC - Abnormal', 0.06308867958059357),\n",
       " ('CVC - Borderline', 0.16705171494579704),\n",
       " ('CVC - Normal', 0.4210651027782714),\n",
       " ('Swan Ganz Catheter Present', 0.016389234445036826),\n",
       " ('None', 0.0004739055743143179)]"
      ]
     },
     "execution_count": 31,
     "metadata": {},
     "output_type": "execute_result"
    }
   ],
   "source": [
    "l = list(probs.items())\n",
    "l"
   ]
  },
  {
   "cell_type": "code",
   "execution_count": 32,
   "metadata": {},
   "outputs": [
    {
     "data": {
      "text/plain": [
       "[('None', 0.0004739055743143179),\n",
       " ('ETT - Abnormal', 0.001559939182117963),\n",
       " ('NGT - Abnormal', 0.005509152301403945),\n",
       " ('NGT - Borderline', 0.010445668700511423),\n",
       " ('Swan Ganz Catheter Present', 0.016389234445036826),\n",
       " ('ETT - Borderline', 0.022471022648737238),\n",
       " ('NGT - Incompletely Imaged', 0.054262188258989395),\n",
       " ('CVC - Abnormal', 0.06308867958059357),\n",
       " ('NGT - Normal', 0.09472187666607429),\n",
       " ('ETT - Normal', 0.14296151491815257),\n",
       " ('CVC - Borderline', 0.16705171494579704),\n",
       " ('CVC - Normal', 0.4210651027782714)]"
      ]
     },
     "execution_count": 32,
     "metadata": {},
     "output_type": "execute_result"
    }
   ],
   "source": [
    "l.sort(reverse=False, key=lambda k_v: k_v[1])\n",
    "l"
   ]
  },
  {
   "cell_type": "code",
   "execution_count": 33,
   "metadata": {},
   "outputs": [],
   "source": [
    "a = []\n",
    "for col, _ in l:\n",
    "    a += d[col]"
   ]
  },
  {
   "cell_type": "code",
   "execution_count": 34,
   "metadata": {},
   "outputs": [
    {
     "data": {
      "text/plain": [
       "(50643, 30083)"
      ]
     },
     "execution_count": 34,
     "metadata": {},
     "output_type": "execute_result"
    }
   ],
   "source": [
    "len(a), len(set(a))"
   ]
  },
  {
   "cell_type": "code",
   "execution_count": 35,
   "metadata": {},
   "outputs": [
    {
     "data": {
      "text/plain": [
       "('1.2.826.0.1.3680043.8.498.70556928637314908190043753509080639346',\n",
       " '1.2.826.0.1.3680043.8.498.70556928637314908190043753509080639346')"
      ]
     },
     "execution_count": 35,
     "metadata": {},
     "output_type": "execute_result"
    }
   ],
   "source": [
    "b = list(dict.fromkeys(a))\n",
    "a[0], b[0]"
   ]
  },
  {
   "cell_type": "code",
   "execution_count": 36,
   "metadata": {},
   "outputs": [
    {
     "data": {
      "text/plain": [
       "['None',\n",
       " 'ETT - Abnormal',\n",
       " 'NGT - Abnormal',\n",
       " 'NGT - Borderline',\n",
       " 'Swan Ganz Catheter Present',\n",
       " 'ETT - Borderline',\n",
       " 'NGT - Incompletely Imaged',\n",
       " 'CVC - Abnormal',\n",
       " 'NGT - Normal',\n",
       " 'ETT - Normal',\n",
       " 'CVC - Borderline',\n",
       " 'CVC - Normal']"
      ]
     },
     "execution_count": 36,
     "metadata": {},
     "output_type": "execute_result"
    }
   ],
   "source": [
    "sorted_cols = [x[0] for x in l]\n",
    "sorted_cols"
   ]
  },
  {
   "cell_type": "code",
   "execution_count": 37,
   "metadata": {},
   "outputs": [],
   "source": [
    "s_counts = list(range(len(sorted_cols)))\n",
    "position = 0\n",
    "for i, s_col in enumerate(sorted_cols):\n",
    "    while position < len(b) and b[position] in d[s_col]:\n",
    "        position += 1\n",
    "    s_counts[i] = position - np.sum(s_counts[:i])"
   ]
  },
  {
   "cell_type": "code",
   "execution_count": 38,
   "metadata": {},
   "outputs": [
    {
     "data": {
      "text/plain": [
       "[24.0,\n",
       " 79.0,\n",
       " 277.0,\n",
       " 526.0,\n",
       " 789.0,\n",
       " 968.0,\n",
       " 2190.0,\n",
       " 2700.0,\n",
       " 3383.0,\n",
       " 1373.0,\n",
       " 5011.0,\n",
       " 12763.0]"
      ]
     },
     "execution_count": 38,
     "metadata": {},
     "output_type": "execute_result"
    }
   ],
   "source": [
    "s_counts"
   ]
  },
  {
   "cell_type": "code",
   "execution_count": 39,
   "metadata": {},
   "outputs": [
    {
     "data": {
      "text/plain": [
       "array([0.00079779, 0.00262607, 0.00920786, 0.01748496, 0.02622744,\n",
       "       0.03217764, 0.07279859, 0.08975169, 0.11245554, 0.04564039,\n",
       "       0.16657248, 0.42425955])"
      ]
     },
     "execution_count": 39,
     "metadata": {},
     "output_type": "execute_result"
    }
   ],
   "source": [
    "s_counts / np.sum(s_counts)"
   ]
  },
  {
   "cell_type": "code",
   "execution_count": 40,
   "metadata": {},
   "outputs": [
    {
     "data": {
      "text/plain": [
       "30083.0"
      ]
     },
     "execution_count": 40,
     "metadata": {},
     "output_type": "execute_result"
    }
   ],
   "source": [
    "np.sum(s_counts)"
   ]
  },
  {
   "cell_type": "code",
   "execution_count": 41,
   "metadata": {},
   "outputs": [
    {
     "data": {
      "text/plain": [
       "array([    0,    24,   103,   380,   906,  1695,  2663,  4853,  7553,\n",
       "       10936, 12309, 17320, 30083], dtype=int16)"
      ]
     },
     "execution_count": 41,
     "metadata": {},
     "output_type": "execute_result"
    }
   ],
   "source": [
    "cum_sum = np.cumsum([0] + s_counts, dtype=np.int16)\n",
    "cum_sum"
   ]
  },
  {
   "cell_type": "code",
   "execution_count": 42,
   "metadata": {},
   "outputs": [
    {
     "data": {
      "text/plain": [
       "array([    0,    24,   103,   380,   906,  1695,  2663,  4853,  7553,\n",
       "       10936, 12309, 17320], dtype=int16)"
      ]
     },
     "execution_count": 42,
     "metadata": {},
     "output_type": "execute_result"
    }
   ],
   "source": [
    "cum_sum2 = np.cumsum([0] + s_counts[:-1], dtype=np.int16)\n",
    "cum_sum2"
   ]
  },
  {
   "cell_type": "code",
   "execution_count": 43,
   "metadata": {},
   "outputs": [
    {
     "data": {
      "text/plain": [
       "array([   2,    7,   27,   52,   78,   96,  219,  270,  338,  137,  501,\n",
       "       1276])"
      ]
     },
     "execution_count": 43,
     "metadata": {},
     "output_type": "execute_result"
    }
   ],
   "source": [
    "val_counts = np.floor(np.array(s_counts)  * val_train_ratio).astype(int)\n",
    "val_counts"
   ]
  },
  {
   "cell_type": "code",
   "execution_count": 44,
   "metadata": {},
   "outputs": [
    {
     "data": {
      "text/plain": [
       "array([    0,     1,     2, ..., 30080, 30081, 30082])"
      ]
     },
     "execution_count": 44,
     "metadata": {},
     "output_type": "execute_result"
    }
   ],
   "source": [
    "idxs = np.array(np.arange(len(train_df)))\n",
    "idxs"
   ]
  },
  {
   "cell_type": "code",
   "execution_count": 45,
   "metadata": {},
   "outputs": [
    {
     "data": {
      "text/plain": [
       "[18, 21, 53, 55, 98, 85, 34, 57, 90, 259]"
      ]
     },
     "execution_count": 45,
     "metadata": {},
     "output_type": "execute_result"
    }
   ],
   "source": [
    "idxs_val = []\n",
    "for i in range(len(s_counts)):\n",
    "    idxs_val += list(np.random.choice(idxs[cum_sum[i]: cum_sum[i + 1]], size=val_counts[i], replace=False))\n",
    "idxs_val[:10]"
   ]
  },
  {
   "cell_type": "code",
   "execution_count": 46,
   "metadata": {},
   "outputs": [
    {
     "data": {
      "text/plain": [
       "30076"
      ]
     },
     "execution_count": 46,
     "metadata": {},
     "output_type": "execute_result"
    }
   ],
   "source": [
    "np.max(idxs_val)"
   ]
  },
  {
   "cell_type": "code",
   "execution_count": 47,
   "metadata": {},
   "outputs": [
    {
     "data": {
      "text/plain": [
       "(27080, 3003)"
      ]
     },
     "execution_count": 47,
     "metadata": {},
     "output_type": "execute_result"
    }
   ],
   "source": [
    "idxs_train = np.ones(len(train_df))\n",
    "idxs_train[idxs_val] = 0\n",
    "idxs_train = list(np.nonzero(idxs_train)[0])\n",
    "len(idxs_train), len(idxs_val)"
   ]
  },
  {
   "cell_type": "code",
   "execution_count": 48,
   "metadata": {},
   "outputs": [
    {
     "data": {
      "text/html": [
       "<div>\n",
       "<style scoped>\n",
       "    .dataframe tbody tr th:only-of-type {\n",
       "        vertical-align: middle;\n",
       "    }\n",
       "\n",
       "    .dataframe tbody tr th {\n",
       "        vertical-align: top;\n",
       "    }\n",
       "\n",
       "    .dataframe thead th {\n",
       "        text-align: right;\n",
       "    }\n",
       "</style>\n",
       "<table border=\"1\" class=\"dataframe\">\n",
       "  <thead>\n",
       "    <tr style=\"text-align: right;\">\n",
       "      <th></th>\n",
       "      <th>StudyInstanceUID</th>\n",
       "      <th>ETT - Abnormal</th>\n",
       "      <th>ETT - Borderline</th>\n",
       "      <th>ETT - Normal</th>\n",
       "      <th>NGT - Abnormal</th>\n",
       "      <th>NGT - Borderline</th>\n",
       "      <th>NGT - Incompletely Imaged</th>\n",
       "      <th>NGT - Normal</th>\n",
       "      <th>CVC - Abnormal</th>\n",
       "      <th>CVC - Borderline</th>\n",
       "      <th>CVC - Normal</th>\n",
       "      <th>Swan Ganz Catheter Present</th>\n",
       "      <th>PatientID</th>\n",
       "    </tr>\n",
       "  </thead>\n",
       "  <tbody>\n",
       "    <tr>\n",
       "      <th>0</th>\n",
       "      <td>1.2.826.0.1.3680043.8.498.26697628953273228189...</td>\n",
       "      <td>0</td>\n",
       "      <td>0</td>\n",
       "      <td>0</td>\n",
       "      <td>0</td>\n",
       "      <td>0</td>\n",
       "      <td>0</td>\n",
       "      <td>1</td>\n",
       "      <td>0</td>\n",
       "      <td>0</td>\n",
       "      <td>0</td>\n",
       "      <td>0</td>\n",
       "      <td>ec89415d1</td>\n",
       "    </tr>\n",
       "    <tr>\n",
       "      <th>1</th>\n",
       "      <td>1.2.826.0.1.3680043.8.498.46302891597398758759...</td>\n",
       "      <td>0</td>\n",
       "      <td>0</td>\n",
       "      <td>1</td>\n",
       "      <td>0</td>\n",
       "      <td>0</td>\n",
       "      <td>1</td>\n",
       "      <td>0</td>\n",
       "      <td>0</td>\n",
       "      <td>0</td>\n",
       "      <td>1</td>\n",
       "      <td>0</td>\n",
       "      <td>bf4c6da3c</td>\n",
       "    </tr>\n",
       "    <tr>\n",
       "      <th>2</th>\n",
       "      <td>1.2.826.0.1.3680043.8.498.23819260719748494858...</td>\n",
       "      <td>0</td>\n",
       "      <td>0</td>\n",
       "      <td>0</td>\n",
       "      <td>0</td>\n",
       "      <td>0</td>\n",
       "      <td>0</td>\n",
       "      <td>0</td>\n",
       "      <td>0</td>\n",
       "      <td>1</td>\n",
       "      <td>0</td>\n",
       "      <td>0</td>\n",
       "      <td>3fc1c97e5</td>\n",
       "    </tr>\n",
       "    <tr>\n",
       "      <th>3</th>\n",
       "      <td>1.2.826.0.1.3680043.8.498.68286643202323212801...</td>\n",
       "      <td>0</td>\n",
       "      <td>0</td>\n",
       "      <td>0</td>\n",
       "      <td>0</td>\n",
       "      <td>0</td>\n",
       "      <td>0</td>\n",
       "      <td>0</td>\n",
       "      <td>1</td>\n",
       "      <td>0</td>\n",
       "      <td>0</td>\n",
       "      <td>0</td>\n",
       "      <td>c31019814</td>\n",
       "    </tr>\n",
       "    <tr>\n",
       "      <th>4</th>\n",
       "      <td>1.2.826.0.1.3680043.8.498.10050203009225938259...</td>\n",
       "      <td>0</td>\n",
       "      <td>0</td>\n",
       "      <td>0</td>\n",
       "      <td>0</td>\n",
       "      <td>0</td>\n",
       "      <td>0</td>\n",
       "      <td>0</td>\n",
       "      <td>0</td>\n",
       "      <td>0</td>\n",
       "      <td>1</td>\n",
       "      <td>0</td>\n",
       "      <td>207685cd1</td>\n",
       "    </tr>\n",
       "    <tr>\n",
       "      <th>...</th>\n",
       "      <td>...</td>\n",
       "      <td>...</td>\n",
       "      <td>...</td>\n",
       "      <td>...</td>\n",
       "      <td>...</td>\n",
       "      <td>...</td>\n",
       "      <td>...</td>\n",
       "      <td>...</td>\n",
       "      <td>...</td>\n",
       "      <td>...</td>\n",
       "      <td>...</td>\n",
       "      <td>...</td>\n",
       "      <td>...</td>\n",
       "    </tr>\n",
       "    <tr>\n",
       "      <th>30078</th>\n",
       "      <td>1.2.826.0.1.3680043.8.498.74257566841157531124...</td>\n",
       "      <td>0</td>\n",
       "      <td>0</td>\n",
       "      <td>1</td>\n",
       "      <td>0</td>\n",
       "      <td>0</td>\n",
       "      <td>0</td>\n",
       "      <td>0</td>\n",
       "      <td>0</td>\n",
       "      <td>1</td>\n",
       "      <td>1</td>\n",
       "      <td>0</td>\n",
       "      <td>5b5b9ac30</td>\n",
       "    </tr>\n",
       "    <tr>\n",
       "      <th>30079</th>\n",
       "      <td>1.2.826.0.1.3680043.8.498.46510939987173529969...</td>\n",
       "      <td>0</td>\n",
       "      <td>0</td>\n",
       "      <td>0</td>\n",
       "      <td>0</td>\n",
       "      <td>0</td>\n",
       "      <td>0</td>\n",
       "      <td>0</td>\n",
       "      <td>0</td>\n",
       "      <td>0</td>\n",
       "      <td>1</td>\n",
       "      <td>0</td>\n",
       "      <td>7192404d8</td>\n",
       "    </tr>\n",
       "    <tr>\n",
       "      <th>30080</th>\n",
       "      <td>1.2.826.0.1.3680043.8.498.43173270582850645437...</td>\n",
       "      <td>0</td>\n",
       "      <td>0</td>\n",
       "      <td>1</td>\n",
       "      <td>0</td>\n",
       "      <td>0</td>\n",
       "      <td>1</td>\n",
       "      <td>0</td>\n",
       "      <td>1</td>\n",
       "      <td>0</td>\n",
       "      <td>1</td>\n",
       "      <td>0</td>\n",
       "      <td>d4d1b066d</td>\n",
       "    </tr>\n",
       "    <tr>\n",
       "      <th>30081</th>\n",
       "      <td>1.2.826.0.1.3680043.8.498.95092491950130838685...</td>\n",
       "      <td>0</td>\n",
       "      <td>0</td>\n",
       "      <td>0</td>\n",
       "      <td>0</td>\n",
       "      <td>0</td>\n",
       "      <td>0</td>\n",
       "      <td>0</td>\n",
       "      <td>0</td>\n",
       "      <td>1</td>\n",
       "      <td>0</td>\n",
       "      <td>0</td>\n",
       "      <td>01a6602b8</td>\n",
       "    </tr>\n",
       "    <tr>\n",
       "      <th>30082</th>\n",
       "      <td>1.2.826.0.1.3680043.8.498.99518162226171269731...</td>\n",
       "      <td>0</td>\n",
       "      <td>0</td>\n",
       "      <td>1</td>\n",
       "      <td>0</td>\n",
       "      <td>0</td>\n",
       "      <td>0</td>\n",
       "      <td>0</td>\n",
       "      <td>0</td>\n",
       "      <td>0</td>\n",
       "      <td>1</td>\n",
       "      <td>0</td>\n",
       "      <td>e692d316c</td>\n",
       "    </tr>\n",
       "  </tbody>\n",
       "</table>\n",
       "<p>27080 rows × 13 columns</p>\n",
       "</div>"
      ],
      "text/plain": [
       "                                        StudyInstanceUID  ETT - Abnormal  \\\n",
       "0      1.2.826.0.1.3680043.8.498.26697628953273228189...               0   \n",
       "1      1.2.826.0.1.3680043.8.498.46302891597398758759...               0   \n",
       "2      1.2.826.0.1.3680043.8.498.23819260719748494858...               0   \n",
       "3      1.2.826.0.1.3680043.8.498.68286643202323212801...               0   \n",
       "4      1.2.826.0.1.3680043.8.498.10050203009225938259...               0   \n",
       "...                                                  ...             ...   \n",
       "30078  1.2.826.0.1.3680043.8.498.74257566841157531124...               0   \n",
       "30079  1.2.826.0.1.3680043.8.498.46510939987173529969...               0   \n",
       "30080  1.2.826.0.1.3680043.8.498.43173270582850645437...               0   \n",
       "30081  1.2.826.0.1.3680043.8.498.95092491950130838685...               0   \n",
       "30082  1.2.826.0.1.3680043.8.498.99518162226171269731...               0   \n",
       "\n",
       "       ETT - Borderline  ETT - Normal  NGT - Abnormal  NGT - Borderline  \\\n",
       "0                     0             0               0                 0   \n",
       "1                     0             1               0                 0   \n",
       "2                     0             0               0                 0   \n",
       "3                     0             0               0                 0   \n",
       "4                     0             0               0                 0   \n",
       "...                 ...           ...             ...               ...   \n",
       "30078                 0             1               0                 0   \n",
       "30079                 0             0               0                 0   \n",
       "30080                 0             1               0                 0   \n",
       "30081                 0             0               0                 0   \n",
       "30082                 0             1               0                 0   \n",
       "\n",
       "       NGT - Incompletely Imaged  NGT - Normal  CVC - Abnormal  \\\n",
       "0                              0             1               0   \n",
       "1                              1             0               0   \n",
       "2                              0             0               0   \n",
       "3                              0             0               1   \n",
       "4                              0             0               0   \n",
       "...                          ...           ...             ...   \n",
       "30078                          0             0               0   \n",
       "30079                          0             0               0   \n",
       "30080                          1             0               1   \n",
       "30081                          0             0               0   \n",
       "30082                          0             0               0   \n",
       "\n",
       "       CVC - Borderline  CVC - Normal  Swan Ganz Catheter Present  PatientID  \n",
       "0                     0             0                           0  ec89415d1  \n",
       "1                     0             1                           0  bf4c6da3c  \n",
       "2                     1             0                           0  3fc1c97e5  \n",
       "3                     0             0                           0  c31019814  \n",
       "4                     0             1                           0  207685cd1  \n",
       "...                 ...           ...                         ...        ...  \n",
       "30078                 1             1                           0  5b5b9ac30  \n",
       "30079                 0             1                           0  7192404d8  \n",
       "30080                 0             1                           0  d4d1b066d  \n",
       "30081                 1             0                           0  01a6602b8  \n",
       "30082                 0             1                           0  e692d316c  \n",
       "\n",
       "[27080 rows x 13 columns]"
      ]
     },
     "execution_count": 48,
     "metadata": {},
     "output_type": "execute_result"
    }
   ],
   "source": [
    "train_df.iloc[idxs_train]"
   ]
  },
  {
   "cell_type": "code",
   "execution_count": 49,
   "metadata": {
    "scrolled": true
   },
   "outputs": [
    {
     "data": {
      "text/html": [
       "<div>\n",
       "<style scoped>\n",
       "    .dataframe tbody tr th:only-of-type {\n",
       "        vertical-align: middle;\n",
       "    }\n",
       "\n",
       "    .dataframe tbody tr th {\n",
       "        vertical-align: top;\n",
       "    }\n",
       "\n",
       "    .dataframe thead th {\n",
       "        text-align: right;\n",
       "    }\n",
       "</style>\n",
       "<table border=\"1\" class=\"dataframe\">\n",
       "  <thead>\n",
       "    <tr style=\"text-align: right;\">\n",
       "      <th></th>\n",
       "      <th>StudyInstanceUID</th>\n",
       "      <th>ETT - Abnormal</th>\n",
       "      <th>ETT - Borderline</th>\n",
       "      <th>ETT - Normal</th>\n",
       "      <th>NGT - Abnormal</th>\n",
       "      <th>NGT - Borderline</th>\n",
       "      <th>NGT - Incompletely Imaged</th>\n",
       "      <th>NGT - Normal</th>\n",
       "      <th>CVC - Abnormal</th>\n",
       "      <th>CVC - Borderline</th>\n",
       "      <th>CVC - Normal</th>\n",
       "      <th>Swan Ganz Catheter Present</th>\n",
       "      <th>PatientID</th>\n",
       "    </tr>\n",
       "  </thead>\n",
       "  <tbody>\n",
       "    <tr>\n",
       "      <th>18</th>\n",
       "      <td>1.2.826.0.1.3680043.8.498.12874505746046378224...</td>\n",
       "      <td>0</td>\n",
       "      <td>0</td>\n",
       "      <td>0</td>\n",
       "      <td>0</td>\n",
       "      <td>0</td>\n",
       "      <td>0</td>\n",
       "      <td>0</td>\n",
       "      <td>0</td>\n",
       "      <td>0</td>\n",
       "      <td>1</td>\n",
       "      <td>0</td>\n",
       "      <td>d46ba6d06</td>\n",
       "    </tr>\n",
       "    <tr>\n",
       "      <th>21</th>\n",
       "      <td>1.2.826.0.1.3680043.8.498.43104496908194932746...</td>\n",
       "      <td>0</td>\n",
       "      <td>0</td>\n",
       "      <td>1</td>\n",
       "      <td>0</td>\n",
       "      <td>0</td>\n",
       "      <td>1</td>\n",
       "      <td>0</td>\n",
       "      <td>1</td>\n",
       "      <td>0</td>\n",
       "      <td>0</td>\n",
       "      <td>0</td>\n",
       "      <td>e43599771</td>\n",
       "    </tr>\n",
       "    <tr>\n",
       "      <th>53</th>\n",
       "      <td>1.2.826.0.1.3680043.8.498.33742897093668894116...</td>\n",
       "      <td>0</td>\n",
       "      <td>0</td>\n",
       "      <td>1</td>\n",
       "      <td>0</td>\n",
       "      <td>0</td>\n",
       "      <td>1</td>\n",
       "      <td>0</td>\n",
       "      <td>0</td>\n",
       "      <td>1</td>\n",
       "      <td>0</td>\n",
       "      <td>0</td>\n",
       "      <td>2bb41c720</td>\n",
       "    </tr>\n",
       "    <tr>\n",
       "      <th>55</th>\n",
       "      <td>1.2.826.0.1.3680043.8.498.78241780469611329601...</td>\n",
       "      <td>0</td>\n",
       "      <td>0</td>\n",
       "      <td>0</td>\n",
       "      <td>0</td>\n",
       "      <td>0</td>\n",
       "      <td>0</td>\n",
       "      <td>0</td>\n",
       "      <td>0</td>\n",
       "      <td>0</td>\n",
       "      <td>1</td>\n",
       "      <td>0</td>\n",
       "      <td>dcddeb64b</td>\n",
       "    </tr>\n",
       "    <tr>\n",
       "      <th>98</th>\n",
       "      <td>1.2.826.0.1.3680043.8.498.40799603244084769744...</td>\n",
       "      <td>0</td>\n",
       "      <td>0</td>\n",
       "      <td>0</td>\n",
       "      <td>0</td>\n",
       "      <td>0</td>\n",
       "      <td>0</td>\n",
       "      <td>0</td>\n",
       "      <td>0</td>\n",
       "      <td>0</td>\n",
       "      <td>1</td>\n",
       "      <td>0</td>\n",
       "      <td>e252d355a</td>\n",
       "    </tr>\n",
       "    <tr>\n",
       "      <th>...</th>\n",
       "      <td>...</td>\n",
       "      <td>...</td>\n",
       "      <td>...</td>\n",
       "      <td>...</td>\n",
       "      <td>...</td>\n",
       "      <td>...</td>\n",
       "      <td>...</td>\n",
       "      <td>...</td>\n",
       "      <td>...</td>\n",
       "      <td>...</td>\n",
       "      <td>...</td>\n",
       "      <td>...</td>\n",
       "      <td>...</td>\n",
       "    </tr>\n",
       "    <tr>\n",
       "      <th>19403</th>\n",
       "      <td>1.2.826.0.1.3680043.8.498.52051725640580728366...</td>\n",
       "      <td>0</td>\n",
       "      <td>0</td>\n",
       "      <td>0</td>\n",
       "      <td>0</td>\n",
       "      <td>0</td>\n",
       "      <td>0</td>\n",
       "      <td>1</td>\n",
       "      <td>0</td>\n",
       "      <td>1</td>\n",
       "      <td>1</td>\n",
       "      <td>0</td>\n",
       "      <td>59d477481</td>\n",
       "    </tr>\n",
       "    <tr>\n",
       "      <th>29444</th>\n",
       "      <td>1.2.826.0.1.3680043.8.498.27651530909734157713...</td>\n",
       "      <td>0</td>\n",
       "      <td>0</td>\n",
       "      <td>0</td>\n",
       "      <td>0</td>\n",
       "      <td>0</td>\n",
       "      <td>0</td>\n",
       "      <td>0</td>\n",
       "      <td>0</td>\n",
       "      <td>1</td>\n",
       "      <td>1</td>\n",
       "      <td>0</td>\n",
       "      <td>c04a42c9f</td>\n",
       "    </tr>\n",
       "    <tr>\n",
       "      <th>23767</th>\n",
       "      <td>1.2.826.0.1.3680043.8.498.11111345482606267769...</td>\n",
       "      <td>0</td>\n",
       "      <td>0</td>\n",
       "      <td>1</td>\n",
       "      <td>1</td>\n",
       "      <td>0</td>\n",
       "      <td>0</td>\n",
       "      <td>0</td>\n",
       "      <td>1</td>\n",
       "      <td>1</td>\n",
       "      <td>0</td>\n",
       "      <td>0</td>\n",
       "      <td>e8bd2e98f</td>\n",
       "    </tr>\n",
       "    <tr>\n",
       "      <th>21500</th>\n",
       "      <td>1.2.826.0.1.3680043.8.498.98607809738335942410...</td>\n",
       "      <td>0</td>\n",
       "      <td>0</td>\n",
       "      <td>1</td>\n",
       "      <td>0</td>\n",
       "      <td>0</td>\n",
       "      <td>1</td>\n",
       "      <td>0</td>\n",
       "      <td>0</td>\n",
       "      <td>1</td>\n",
       "      <td>0</td>\n",
       "      <td>0</td>\n",
       "      <td>852789ca9</td>\n",
       "    </tr>\n",
       "    <tr>\n",
       "      <th>23096</th>\n",
       "      <td>1.2.826.0.1.3680043.8.498.62294388044632820506...</td>\n",
       "      <td>0</td>\n",
       "      <td>0</td>\n",
       "      <td>0</td>\n",
       "      <td>0</td>\n",
       "      <td>0</td>\n",
       "      <td>0</td>\n",
       "      <td>0</td>\n",
       "      <td>0</td>\n",
       "      <td>0</td>\n",
       "      <td>1</td>\n",
       "      <td>0</td>\n",
       "      <td>c7d680b89</td>\n",
       "    </tr>\n",
       "  </tbody>\n",
       "</table>\n",
       "<p>3003 rows × 13 columns</p>\n",
       "</div>"
      ],
      "text/plain": [
       "                                        StudyInstanceUID  ETT - Abnormal  \\\n",
       "18     1.2.826.0.1.3680043.8.498.12874505746046378224...               0   \n",
       "21     1.2.826.0.1.3680043.8.498.43104496908194932746...               0   \n",
       "53     1.2.826.0.1.3680043.8.498.33742897093668894116...               0   \n",
       "55     1.2.826.0.1.3680043.8.498.78241780469611329601...               0   \n",
       "98     1.2.826.0.1.3680043.8.498.40799603244084769744...               0   \n",
       "...                                                  ...             ...   \n",
       "19403  1.2.826.0.1.3680043.8.498.52051725640580728366...               0   \n",
       "29444  1.2.826.0.1.3680043.8.498.27651530909734157713...               0   \n",
       "23767  1.2.826.0.1.3680043.8.498.11111345482606267769...               0   \n",
       "21500  1.2.826.0.1.3680043.8.498.98607809738335942410...               0   \n",
       "23096  1.2.826.0.1.3680043.8.498.62294388044632820506...               0   \n",
       "\n",
       "       ETT - Borderline  ETT - Normal  NGT - Abnormal  NGT - Borderline  \\\n",
       "18                    0             0               0                 0   \n",
       "21                    0             1               0                 0   \n",
       "53                    0             1               0                 0   \n",
       "55                    0             0               0                 0   \n",
       "98                    0             0               0                 0   \n",
       "...                 ...           ...             ...               ...   \n",
       "19403                 0             0               0                 0   \n",
       "29444                 0             0               0                 0   \n",
       "23767                 0             1               1                 0   \n",
       "21500                 0             1               0                 0   \n",
       "23096                 0             0               0                 0   \n",
       "\n",
       "       NGT - Incompletely Imaged  NGT - Normal  CVC - Abnormal  \\\n",
       "18                             0             0               0   \n",
       "21                             1             0               1   \n",
       "53                             1             0               0   \n",
       "55                             0             0               0   \n",
       "98                             0             0               0   \n",
       "...                          ...           ...             ...   \n",
       "19403                          0             1               0   \n",
       "29444                          0             0               0   \n",
       "23767                          0             0               1   \n",
       "21500                          1             0               0   \n",
       "23096                          0             0               0   \n",
       "\n",
       "       CVC - Borderline  CVC - Normal  Swan Ganz Catheter Present  PatientID  \n",
       "18                    0             1                           0  d46ba6d06  \n",
       "21                    0             0                           0  e43599771  \n",
       "53                    1             0                           0  2bb41c720  \n",
       "55                    0             1                           0  dcddeb64b  \n",
       "98                    0             1                           0  e252d355a  \n",
       "...                 ...           ...                         ...        ...  \n",
       "19403                 1             1                           0  59d477481  \n",
       "29444                 1             1                           0  c04a42c9f  \n",
       "23767                 1             0                           0  e8bd2e98f  \n",
       "21500                 1             0                           0  852789ca9  \n",
       "23096                 0             1                           0  c7d680b89  \n",
       "\n",
       "[3003 rows x 13 columns]"
      ]
     },
     "execution_count": 49,
     "metadata": {},
     "output_type": "execute_result"
    }
   ],
   "source": [
    "train_df.iloc[idxs_val]"
   ]
  },
  {
   "cell_type": "code",
   "execution_count": 50,
   "metadata": {},
   "outputs": [],
   "source": [
    "train_img_uids = list(train_df.iloc[idxs_train]['StudyInstanceUID'])\n",
    "val_img_uids = list(train_df.iloc[idxs_val]['StudyInstanceUID'])"
   ]
  },
  {
   "cell_type": "code",
   "execution_count": 51,
   "metadata": {},
   "outputs": [
    {
     "data": {
      "text/plain": [
       "'/home/stanislaw/kaggle-competitions/ranzcr_clip/notebooks'"
      ]
     },
     "execution_count": 51,
     "metadata": {},
     "output_type": "execute_result"
    }
   ],
   "source": [
    "pwd"
   ]
  },
  {
   "cell_type": "code",
   "execution_count": 114,
   "metadata": {},
   "outputs": [],
   "source": [
    "import pickle\n",
    "\n",
    "train_val_split = {\n",
    "    'train': train_img_uids,\n",
    "    'val': val_img_uids\n",
    "}\n",
    "\n",
    "with open('/home/stanislaw/kaggle-competitions/ranzcr_clip/train_val_split.pkl', 'wb') as fp:\n",
    "    pickle.dump(train_val_split, fp)\n",
    "    \n"
   ]
  },
  {
   "cell_type": "code",
   "execution_count": 115,
   "metadata": {},
   "outputs": [
    {
     "data": {
      "text/plain": [
       "array([0, 0, 0, 0, 0, 0, 1, 0, 0, 0, 0])"
      ]
     },
     "execution_count": 115,
     "metadata": {},
     "output_type": "execute_result"
    }
   ],
   "source": [
    "malpositions[0]"
   ]
  },
  {
   "cell_type": "code",
   "execution_count": 116,
   "metadata": {},
   "outputs": [],
   "source": [
    "img_uids = train_df.iloc[:, 0].to_list()\n",
    "malpositions = train_df.iloc[:, 1:-1].to_numpy()\n",
    "targets = dict()\n",
    "for i in range(len(img_uids)):\n",
    "    targets[img_uids[i]] = malpositions[i]\n",
    "    \n",
    "with open('/home/stanislaw/kaggle-competitions/ranzcr_clip/malpositions.pkl', 'wb') as fp:\n",
    "    pickle.dump(targets, fp)   "
   ]
  },
  {
   "cell_type": "code",
   "execution_count": null,
   "metadata": {},
   "outputs": [],
   "source": []
  }
 ],
 "metadata": {
  "kernelspec": {
   "display_name": "Python 3",
   "language": "python",
   "name": "python3"
  },
  "language_info": {
   "codemirror_mode": {
    "name": "ipython",
    "version": 3
   },
   "file_extension": ".py",
   "mimetype": "text/x-python",
   "name": "python",
   "nbconvert_exporter": "python",
   "pygments_lexer": "ipython3",
   "version": "3.7.6"
  }
 },
 "nbformat": 4,
 "nbformat_minor": 2
}
